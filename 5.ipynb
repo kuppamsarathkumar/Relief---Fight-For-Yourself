{
  "nbformat": 4,
  "nbformat_minor": 0,
  "metadata": {
    "colab": {
      "provenance": []
    },
    "kernelspec": {
      "name": "python3",
      "display_name": "Python 3"
    },
    "language_info": {
      "name": "python"
    }
  },
  "cells": [
    {
      "cell_type": "code",
      "execution_count": 1,
      "metadata": {
        "id": "IINzEQ34HyVx"
      },
      "outputs": [],
      "source": [
        "%matplotlib inline"
      ]
    },
    {
      "cell_type": "code",
      "source": [
        "import os\n",
        "import torch\n",
        "from torch import nn\n",
        "from torch.utils.data import DataLoader\n",
        "from torchvision import datasets, transforms"
      ],
      "metadata": {
        "id": "-aF3vN0TH33i"
      },
      "execution_count": 2,
      "outputs": []
    },
    {
      "cell_type": "code",
      "source": [
        "device = (\n",
        "    \"cuda\"\n",
        "    if torch.cuda.is_available()\n",
        "    else \"mps\"\n",
        "    if torch.backends.mps.is_available()\n",
        "    else \"cpu\"\n",
        ")\n",
        "print(f\"Using {device} device\")"
      ],
      "metadata": {
        "colab": {
          "base_uri": "https://localhost:8080/"
        },
        "id": "hNJCQtIFH5RP",
        "outputId": "8c7ced00-aa51-4036-9249-5c9ca106079e"
      },
      "execution_count": 3,
      "outputs": [
        {
          "output_type": "stream",
          "name": "stdout",
          "text": [
            "Using cpu device\n"
          ]
        }
      ]
    },
    {
      "cell_type": "code",
      "source": [
        "class NeuralNetwork(nn.Module):\n",
        "    def __init__(self):\n",
        "        super().__init__()\n",
        "        self.flatten = nn.Flatten()\n",
        "        self.linear_relu_stack = nn.Sequential(\n",
        "            nn.Linear(28*28, 512),\n",
        "            nn.ReLU(),\n",
        "            nn.Linear(512, 512),\n",
        "            nn.ReLU(),\n",
        "            nn.Linear(512, 10),\n",
        "        )\n",
        "\n",
        "    def forward(self, x):\n",
        "        x = self.flatten(x)\n",
        "        logits = self.linear_relu_stack(x)\n",
        "        return logits"
      ],
      "metadata": {
        "id": "mc3_9HjUH706"
      },
      "execution_count": 4,
      "outputs": []
    },
    {
      "cell_type": "code",
      "source": [
        "model = NeuralNetwork().to(device)\n",
        "print(model)"
      ],
      "metadata": {
        "id": "0CdmxZB2H945",
        "colab": {
          "base_uri": "https://localhost:8080/"
        },
        "outputId": "7c32919f-cd3d-43da-eb48-6ed384c0d804"
      },
      "execution_count": 16,
      "outputs": [
        {
          "output_type": "stream",
          "name": "stdout",
          "text": [
            "NeuralNetwork(\n",
            "  (flatten): Flatten(start_dim=1, end_dim=-1)\n",
            "  (linear_relu_stack): Sequential(\n",
            "    (0): Linear(in_features=784, out_features=512, bias=True)\n",
            "    (1): ReLU()\n",
            "    (2): Linear(in_features=512, out_features=512, bias=True)\n",
            "    (3): ReLU()\n",
            "    (4): Linear(in_features=512, out_features=10, bias=True)\n",
            "  )\n",
            ")\n"
          ]
        }
      ]
    },
    {
      "cell_type": "code",
      "source": [
        "X = torch.rand(1, 28, 28, device=device)\n",
        "logits = model(X)\n",
        "pred_probab = nn.Softmax(dim=1)(logits)\n",
        "y_pred = pred_probab.argmax(1)\n",
        "print(f\"Predicted class: {y_pred}\")"
      ],
      "metadata": {
        "colab": {
          "base_uri": "https://localhost:8080/"
        },
        "id": "XQ_Etx8IH_mT",
        "outputId": "fbf04c3d-9c57-424f-d8da-b12e6fd7d5be"
      },
      "execution_count": 17,
      "outputs": [
        {
          "output_type": "stream",
          "name": "stdout",
          "text": [
            "Predicted class: tensor([6])\n"
          ]
        }
      ]
    },
    {
      "cell_type": "code",
      "source": [
        "input_image = torch.rand(3,28,28)\n",
        "print(input_image.size())"
      ],
      "metadata": {
        "id": "1A1otb-LIISn",
        "colab": {
          "base_uri": "https://localhost:8080/"
        },
        "outputId": "b49df321-2d37-41c3-e10c-d9163d0947e0"
      },
      "execution_count": 18,
      "outputs": [
        {
          "output_type": "stream",
          "name": "stdout",
          "text": [
            "torch.Size([3, 28, 28])\n"
          ]
        }
      ]
    },
    {
      "cell_type": "code",
      "source": [
        "flatten = nn.Flatten()\n",
        "flat_image = flatten(input_image)\n",
        "print(flat_image.size())"
      ],
      "metadata": {
        "id": "s7SNDdfLINRw",
        "colab": {
          "base_uri": "https://localhost:8080/"
        },
        "outputId": "49e8ae85-71d2-4609-c01b-7b16df2d53bf"
      },
      "execution_count": 19,
      "outputs": [
        {
          "output_type": "stream",
          "name": "stdout",
          "text": [
            "torch.Size([3, 784])\n"
          ]
        }
      ]
    },
    {
      "cell_type": "code",
      "source": [
        "layer1 = nn.Linear(in_features=28*28, out_features=20)\n",
        "hidden1 = layer1(flat_image)\n",
        "print(hidden1.size())"
      ],
      "metadata": {
        "id": "IL7QxZjzIPoe",
        "colab": {
          "base_uri": "https://localhost:8080/"
        },
        "outputId": "4a340dad-e2ab-4ed2-e72a-7bacaa6a8538"
      },
      "execution_count": 20,
      "outputs": [
        {
          "output_type": "stream",
          "name": "stdout",
          "text": [
            "torch.Size([3, 20])\n"
          ]
        }
      ]
    },
    {
      "cell_type": "code",
      "source": [
        "print(f\"Before ReLU: {hidden1}\\n\\n\")\n",
        "hidden1 = nn.ReLU()(hidden1)\n",
        "print(f\"After ReLU: {hidden1}\")"
      ],
      "metadata": {
        "id": "Blyq6n7TIRwW",
        "colab": {
          "base_uri": "https://localhost:8080/"
        },
        "outputId": "283ab395-61fc-43c7-f526-18b59da73403"
      },
      "execution_count": 21,
      "outputs": [
        {
          "output_type": "stream",
          "name": "stdout",
          "text": [
            "Before ReLU: tensor([[-0.1794, -0.1662, -0.0730,  0.5147, -0.3418, -0.0835,  0.0406,  0.0181,\n",
            "         -0.1141,  0.3478,  0.0687,  0.7444, -0.0773, -0.0399, -0.1921,  0.0994,\n",
            "         -0.2226, -0.3393,  0.1132,  0.1274],\n",
            "        [-0.2119,  0.1445, -0.2253,  0.4126, -0.1584,  0.2990,  0.0710,  0.2912,\n",
            "         -0.3681,  0.3356,  0.2458,  0.7822,  0.1373, -0.1562, -0.1074,  0.1715,\n",
            "          0.0721, -0.2849, -0.0832,  0.4183],\n",
            "        [-0.4316, -0.3009, -0.0411,  0.1180, -0.5135,  0.2465, -0.0591,  0.0184,\n",
            "         -0.2570,  0.4435,  0.2466,  0.8820, -0.0034, -0.0856, -0.2737,  0.1111,\n",
            "          0.2533, -0.3465, -0.2028,  0.1040]], grad_fn=<AddmmBackward0>)\n",
            "\n",
            "\n",
            "After ReLU: tensor([[0.0000, 0.0000, 0.0000, 0.5147, 0.0000, 0.0000, 0.0406, 0.0181, 0.0000,\n",
            "         0.3478, 0.0687, 0.7444, 0.0000, 0.0000, 0.0000, 0.0994, 0.0000, 0.0000,\n",
            "         0.1132, 0.1274],\n",
            "        [0.0000, 0.1445, 0.0000, 0.4126, 0.0000, 0.2990, 0.0710, 0.2912, 0.0000,\n",
            "         0.3356, 0.2458, 0.7822, 0.1373, 0.0000, 0.0000, 0.1715, 0.0721, 0.0000,\n",
            "         0.0000, 0.4183],\n",
            "        [0.0000, 0.0000, 0.0000, 0.1180, 0.0000, 0.2465, 0.0000, 0.0184, 0.0000,\n",
            "         0.4435, 0.2466, 0.8820, 0.0000, 0.0000, 0.0000, 0.1111, 0.2533, 0.0000,\n",
            "         0.0000, 0.1040]], grad_fn=<ReluBackward0>)\n"
          ]
        }
      ]
    },
    {
      "cell_type": "code",
      "source": [
        "seq_modules = nn.Sequential(\n",
        "    flatten,\n",
        "    layer1,\n",
        "    nn.ReLU(),\n",
        "    nn.Linear(20, 10)\n",
        ")\n",
        "input_image = torch.rand(3,28,28)\n",
        "logits = seq_modules(input_image)"
      ],
      "metadata": {
        "id": "r6AjRgpFIUPe"
      },
      "execution_count": 22,
      "outputs": []
    },
    {
      "cell_type": "code",
      "source": [
        "softmax = nn.Softmax(dim=1)\n",
        "pred_probab = softmax(logits)"
      ],
      "metadata": {
        "id": "7CGUWvoYIWvK"
      },
      "execution_count": 23,
      "outputs": []
    },
    {
      "cell_type": "code",
      "source": [
        "print(f\"Model structure: {model}\\n\\n\")\n",
        "\n",
        "for name, param in model.named_parameters():\n",
        "    print(f\"Layer: {name} | Size: {param.size()} | Values : {param[:2]} \\n\")"
      ],
      "metadata": {
        "id": "meFgP4QnIbFl",
        "colab": {
          "base_uri": "https://localhost:8080/"
        },
        "outputId": "30ec5bee-9db8-4dd5-a002-8d0ac17a1c5b"
      },
      "execution_count": 24,
      "outputs": [
        {
          "output_type": "stream",
          "name": "stdout",
          "text": [
            "Model structure: NeuralNetwork(\n",
            "  (flatten): Flatten(start_dim=1, end_dim=-1)\n",
            "  (linear_relu_stack): Sequential(\n",
            "    (0): Linear(in_features=784, out_features=512, bias=True)\n",
            "    (1): ReLU()\n",
            "    (2): Linear(in_features=512, out_features=512, bias=True)\n",
            "    (3): ReLU()\n",
            "    (4): Linear(in_features=512, out_features=10, bias=True)\n",
            "  )\n",
            ")\n",
            "\n",
            "\n",
            "Layer: linear_relu_stack.0.weight | Size: torch.Size([512, 784]) | Values : tensor([[ 0.0037, -0.0294,  0.0003,  ...,  0.0339, -0.0311, -0.0095],\n",
            "        [-0.0228,  0.0105, -0.0163,  ...,  0.0052,  0.0142, -0.0187]],\n",
            "       grad_fn=<SliceBackward0>) \n",
            "\n",
            "Layer: linear_relu_stack.0.bias | Size: torch.Size([512]) | Values : tensor([0.0147, 0.0003], grad_fn=<SliceBackward0>) \n",
            "\n",
            "Layer: linear_relu_stack.2.weight | Size: torch.Size([512, 512]) | Values : tensor([[ 0.0115, -0.0275,  0.0438,  ...,  0.0252,  0.0024,  0.0133],\n",
            "        [ 0.0009,  0.0323, -0.0117,  ...,  0.0421, -0.0137, -0.0008]],\n",
            "       grad_fn=<SliceBackward0>) \n",
            "\n",
            "Layer: linear_relu_stack.2.bias | Size: torch.Size([512]) | Values : tensor([-0.0140, -0.0327], grad_fn=<SliceBackward0>) \n",
            "\n",
            "Layer: linear_relu_stack.4.weight | Size: torch.Size([10, 512]) | Values : tensor([[ 0.0242, -0.0367, -0.0069,  ...,  0.0181,  0.0020,  0.0001],\n",
            "        [-0.0340, -0.0348, -0.0291,  ..., -0.0251,  0.0333,  0.0347]],\n",
            "       grad_fn=<SliceBackward0>) \n",
            "\n",
            "Layer: linear_relu_stack.4.bias | Size: torch.Size([10]) | Values : tensor([-0.0301, -0.0245], grad_fn=<SliceBackward0>) \n",
            "\n"
          ]
        }
      ]
    }
  ]
}